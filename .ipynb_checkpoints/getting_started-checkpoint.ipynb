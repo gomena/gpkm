{
 "cells": [
  {
   "cell_type": "markdown",
   "metadata": {},
   "source": [
    "# Getting Started\n",
    "\n",
    "###1. Install python and the key packages\n",
    " - The easiest way to do this is by downloading [Anaconda](https://store.continuum.io/cshop/anaconda/) (or Enthought, but I prefer Anaconda): \n",
    " - Many key packages will be already included in Anaconda (you don't need to do anything beyond the above), but fyi they include:\n",
    "    - [python](https://www.python.org/), the language\n",
    "    - [ipython](http://ipython.org/), the UI and the notebook that makes everything easier\n",
    "    - [numpy](http://www.numpy.org/), the numerical package for using python (upon which the the following are built)\n",
    "    - [scipy](http://www.scipy.org/), scientific computing atop numpy (think Matlab or R)\n",
    "    - [scikit-learn](http://scikit-learn.org/stable/), a great library of machine learning tools \n",
    "    - [statsmodels](http://statsmodels.sourceforge.net/), a library of statistical modeling tools \n",
    "    - [matplotlib](http://matplotlib.org/), the 2d plotting library\n",
    "    - [pandas](http://pandas.pydata.org/), data analysis tools and data structures (here's a [tour](http://nbviewer.ipython.org/urls/gist.github.com/wesm/4757075/raw/a72d3450ad4924d0e74fb57c9f62d1d895ea4574/PandasTour.ipynb))\n",
    "    - [numba](http://numba.pydata.org/), high-performance code option to allow inline compilation of python code (advanced)\n",
    "\n",
    " - A few advanced packages that you may want to use in your project (not included in anaconda, nor needed for the class at present):\n",
    "    - [seaborn](http://stanford.edu/~mwaskom/software/seaborn/), attractive visual presentation\n",
    "    - [xkcd style](http://jakevdp.github.io/blog/2013/07/10/XKCD-plots-in-matplotlib/) (for fun)\n",
    "    - [autograd](https://github.com/HIPS/autograd), automatic differentiation of numpy code\n",
    "    - [theano](http://deeplearning.net/software/theano/), automatic differentiation and other optimizations\n",
    "    - [spearmint](https://github.com/HIPS/Spearmint), bayesian optimization\n",
    " - Some other, possibly useful links:\n",
    "    - [deep learning](http://deeplearning.net/software_links/), many great links to other python and non-python packages for machine learning and deep learning.\n",
    "    - [stan](http://mc-stan.org/), a probabilistic programming language, including this [python interface](http://mc-stan.org/pystan.html).  Note that there are many other probabilistic programming languages.\n",
    "    - [databricks/spark](https://databricks.com/spark/about), for large-scale distributed computing, including particularly atop [AWS](http://aws.amazon.com/free/)\n",
    "\n",
    "###2. Get accustomed to doing machine learning with this python stack (not necessary, but helpful)\n",
    " - Basic python tutorials are [here](https://docs.python.org/2/tutorial/introduction.html) and [here](http://www.codecademy.com/en/tracks/python)\n",
    " - Machine learning in python tutorial [here](http://scikit-learn.org/stable/tutorial/) \n",
    " - Plotting tutorial [here](http://matplotlib.org/users/pyplot_tutorial.html)\n",
    " - Handling data with pandas tutorial [here](http://pandas.pydata.org/pandas-docs/stable/10min.html#min), or the lengthier [tour](http://nbviewer.ipython.org/urls/gist.github.com/wesm/4757075/raw/a72d3450ad4924d0e74fb57c9f62d1d895ea4574/PandasTour.ipynb)\n",
    " \n",
    "    \n",
    "###3. Get tooled up on git, which is how everything will be submitted and available in this class\n",
    " - Get a [github](https://github.com/) account (free!)\n",
    " - I prefer the command line, but you may want to use [GitHub for mac](https://mac.github.com/) or similar.\n",
    " - Here are some [tutorials](https://help.github.com/articles/good-resources-for-learning-git-and-github/)\n",
    " - Here is a great [cheat sheet](https://education.github.com/git-cheat-sheet-education.pdf)\n",
    "    \n",
    "###4. Install and test the Gaussian Process python package GPy \n",
    " - Install [GPy](http://sheffieldml.github.io/GPy/), a nice python package for Gaussian Processes.  This will be the key interface used throughout the course.\n",
    "    - if your installation of anaconda was successful, you should be able to run\n",
    "       - ```pip install GPy``` (from the command line, with which I will assume basic familiarity)\n",
    "       - documentation for GPy is available [here](https://gpy.readthedocs.org/en/latest/)\n",
    "       - you can test GPy with ```import GPy``` followed by ```GPy.tests()``` in ipython.  I recommend doing this step in python or ipython itself rather than in a notebook, since there is a lot of printed output.\n",
    "       \n",
    "###5. Verify your basics with the following commands:\n",
    "  - Note, this is an extended and altered version of the [scikit-learn tutorial](http://scikit-learn.org/stable/tutorial/); see that link for full description)\n",
    "  - Also, the markdown syntax is very helpful; nice tutorials are [here](http://jupyter.cs.brynmawr.edu/hub/dblank/public/Jupyter%20Notebook%20Users%20Manual.ipynb) and [here](http://nbviewer.ipython.org/github/Carreau/ipython/blob/2.x/examples/Notebook/Markdown%20Cells.ipynb) and [here](http://www.notebooksapp.com/ios/markdown/). "
   ]
  },
  {
   "cell_type": "code",
   "execution_count": 1,
   "metadata": {
    "collapsed": false
   },
   "outputs": [
    {
     "name": "stdout",
     "output_type": "stream",
     "text": [
      "Populating the interactive namespace from numpy and matplotlib\n"
     ]
    }
   ],
   "source": [
    "import matplotlib.pyplot as plt\n",
    "import numpy as np\n",
    "%pylab inline"
   ]
  },
  {
   "cell_type": "code",
   "execution_count": 2,
   "metadata": {
    "collapsed": false
   },
   "outputs": [
    {
     "name": "stdout",
     "output_type": "stream",
     "text": [
      "Interactive namespace is empty.\n"
     ]
    }
   ],
   "source": [
    "%whos\n",
    "# also %doctest_mode is helpful for cutting and pasting"
   ]
  },
  {
   "cell_type": "code",
   "execution_count": 3,
   "metadata": {
    "collapsed": false
   },
   "outputs": [],
   "source": [
    "import sklearn\n",
    "from sklearn import datasets\n",
    "iris = datasets.load_iris()\n",
    "digits = datasets.load_digits()"
   ]
  },
  {
   "cell_type": "code",
   "execution_count": 4,
   "metadata": {
    "collapsed": false
   },
   "outputs": [
    {
     "name": "stdout",
     "output_type": "stream",
     "text": [
      "Variable   Type      Data/Info\n",
      "------------------------------\n",
      "datasets   module    <module 'sklearn.datasets<...>n/datasets/__init__.pyc'>\n",
      "digits     Bunch     {'images': array([[[  0.,<...>[0, 1, 2, ..., 8, 9, 8])}\n",
      "iris       Bunch     {'target_names': array(['<...>m)', 'petal width (cm)']}\n",
      "sklearn    module    <module 'sklearn' from '/<...>es/sklearn/__init__.pyc'>\n"
     ]
    }
   ],
   "source": [
    "%whos"
   ]
  },
  {
   "cell_type": "code",
   "execution_count": 36,
   "metadata": {
    "collapsed": false
   },
   "outputs": [
    {
     "data": {
      "text/plain": [
       "['images', 'data', 'target_names', 'DESCR', 'target']"
      ]
     },
     "execution_count": 36,
     "metadata": {},
     "output_type": "execute_result"
    }
   ],
   "source": [
    "#note iris and digist are of type Bunch\n",
    "digits.keys()"
   ]
  },
  {
   "cell_type": "code",
   "execution_count": 6,
   "metadata": {
    "collapsed": false
   },
   "outputs": [
    {
     "data": {
      "text/plain": [
       "numpy.ndarray"
      ]
     },
     "execution_count": 6,
     "metadata": {},
     "output_type": "execute_result"
    }
   ],
   "source": [
    "type(digits.data)"
   ]
  },
  {
   "cell_type": "code",
   "execution_count": 9,
   "metadata": {
    "collapsed": false
   },
   "outputs": [
    {
     "data": {
      "text/plain": [
       "(1797, 64)"
      ]
     },
     "execution_count": 9,
     "metadata": {},
     "output_type": "execute_result"
    }
   ],
   "source": [
    "# the input values\n",
    "digits.data.shape"
   ]
  },
  {
   "cell_type": "code",
   "execution_count": 41,
   "metadata": {
    "collapsed": false
   },
   "outputs": [
    {
     "data": {
      "text/plain": [
       "(1797, 8, 8)"
      ]
     },
     "execution_count": 41,
     "metadata": {},
     "output_type": "execute_result"
    }
   ],
   "source": [
    "# the input values in their actual image shape\n",
    "digits.images.shape"
   ]
  },
  {
   "cell_type": "code",
   "execution_count": 10,
   "metadata": {
    "collapsed": false
   },
   "outputs": [
    {
     "data": {
      "text/plain": [
       "(1797,)"
      ]
     },
     "execution_count": 10,
     "metadata": {},
     "output_type": "execute_result"
    }
   ],
   "source": [
    "# the outputs/targets\n",
    "digits.target.shape"
   ]
  },
  {
   "cell_type": "code",
   "execution_count": 15,
   "metadata": {
    "collapsed": false
   },
   "outputs": [
    {
     "data": {
      "text/plain": [
       "array([[  0.,   0.,   5.,  13.,   9.,   1.,   0.,   0.],\n",
       "       [  0.,   0.,  13.,  15.,  10.,  15.,   5.,   0.],\n",
       "       [  0.,   3.,  15.,   2.,   0.,  11.,   8.,   0.],\n",
       "       [  0.,   4.,  12.,   0.,   0.,   8.,   8.,   0.],\n",
       "       [  0.,   5.,   8.,   0.,   0.,   9.,   8.,   0.],\n",
       "       [  0.,   4.,  11.,   0.,   1.,  12.,   7.,   0.],\n",
       "       [  0.,   2.,  14.,   5.,  10.,  12.,   0.,   0.],\n",
       "       [  0.,   0.,   6.,  13.,  10.,   0.,   0.,   0.]])"
      ]
     },
     "execution_count": 15,
     "metadata": {},
     "output_type": "execute_result"
    }
   ],
   "source": [
    "# check out a digit; look, it's the image of a 0\n",
    "digits.images[0]"
   ]
  },
  {
   "cell_type": "code",
   "execution_count": 22,
   "metadata": {
    "collapsed": false
   },
   "outputs": [
    {
     "data": {
      "image/png": "[encoded data removed]",
      "text/plain": [
       "<matplotlib.figure.Figure at 0x108294a90>"
      ]
     },
     "metadata": {},
     "output_type": "display_data"
    }
   ],
   "source": [
    "# show it as an image; gray_r is reverse, so that min will be white, and max will be black.\n",
    "plt.imshow(digits.images[0], interpolation='nearest', cmap=plt.cm.gray_r)\n",
    "plt.show()"
   ]
  },
  {
   "cell_type": "code",
   "execution_count": 56,
   "metadata": {
    "collapsed": false
   },
   "outputs": [
    {
     "data": {
      "text/plain": [
       "KNeighborsClassifier(algorithm='auto', leaf_size=30, metric='minkowski',\n",
       "           metric_params=None, n_neighbors=3, p=2, weights='uniform')"
      ]
     },
     "execution_count": 56,
     "metadata": {},
     "output_type": "execute_result"
    }
   ],
   "source": [
    "# kNN classifier; akin to http://scikit-learn.org/stable/modules/generated/sklearn.neighbors.KNeighborsClassifier.html\n",
    "from sklearn.neighbors import KNeighborsClassifier as knn\n",
    "knn3 = knn(n_neighbors=3)\n",
    "knn3.fit( digits.data[0:-1,] , digits.target[0:-1] ) "
   ]
  },
  {
   "cell_type": "code",
   "execution_count": 57,
   "metadata": {
    "collapsed": false
   },
   "outputs": [
    {
     "data": {
      "text/plain": [
       "(1796, 64)"
      ]
     },
     "execution_count": 57,
     "metadata": {},
     "output_type": "execute_result"
    }
   ],
   "source": [
    "# to be clear, that indexing removes the last row from the 2d array\n",
    "digits.data[0:-1,].shape"
   ]
  },
  {
   "cell_type": "code",
   "execution_count": 58,
   "metadata": {
    "collapsed": false
   },
   "outputs": [
    {
     "name": "stdout",
     "output_type": "stream",
     "text": [
      "[8]\n"
     ]
    }
   ],
   "source": [
    "# now let's predict that last one:\n",
    "print(knn3.predict(digits.data[-1,]))"
   ]
  },
  {
   "cell_type": "code",
   "execution_count": 59,
   "metadata": {
    "collapsed": false
   },
   "outputs": [
    {
     "data": {
      "text/plain": [
       "8"
      ]
     },
     "execution_count": 59,
     "metadata": {},
     "output_type": "execute_result"
    }
   ],
   "source": [
    "# and the truth\n",
    "digits.target[-1]"
   ]
  },
  {
   "cell_type": "code",
   "execution_count": 60,
   "metadata": {
    "collapsed": true
   },
   "outputs": [],
   "source": [
    "# great..."
   ]
  }
 ],
 "metadata": {
  "kernelspec": {
   "display_name": "Python 2",
   "language": "python",
   "name": "python2"
  },
  "language_info": {
   "codemirror_mode": {
    "name": "ipython",
    "version": 2
   },
   "file_extension": ".py",
   "mimetype": "text/x-python",
   "name": "python",
   "nbconvert_exporter": "python",
   "pygments_lexer": "ipython2",
   "version": "2.7.9"
  }
 },
 "nbformat": 4,
 "nbformat_minor": 0
}
